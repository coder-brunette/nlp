{
 "cells": [
  {
   "cell_type": "code",
   "execution_count": 7,
   "id": "8305126a",
   "metadata": {},
   "outputs": [],
   "source": [
    "## Topic 1: Tokenization"
   ]
  },
  {
   "cell_type": "code",
   "execution_count": 1,
   "id": "1e88d5ef",
   "metadata": {},
   "outputs": [],
   "source": [
    "## Importing the required libarires for tokenization - \n",
    "### Using tensorflow library\n",
    "\n",
    "import tensorflow as tf\n",
    "from tensorflow import keras\n",
    "\n",
    "# Tokenizer APIs to be called from the tensorflow.keras as follows -\n",
    "\n",
    "from tensorflow.keras.preprocessing.text import Tokenizer"
   ]
  },
  {
   "cell_type": "code",
   "execution_count": 2,
   "id": "acf39b50",
   "metadata": {},
   "outputs": [],
   "source": [
    "# Taking two sentences and representing them as a list of strings.\n",
    "\n",
    "sentences = [\"Tabby loves dog\", \"Tabby loves cat\"]\n",
    "\n",
    "# Let's create an instance of the tokenizer object. The num_words argument is the maximum number of words to\n",
    "# keep, meaning most frequent 100 words in all our sentences.\n",
    "\n",
    "tokenizer = Tokenizer(num_words = 100)\n",
    "\n",
    "# The tokenizer goes through the all the texts and trains itself with the below line.\n",
    "\n",
    "tokenizer.fit_on_texts(sentences)"
   ]
  },
  {
   "cell_type": "code",
   "execution_count": 4,
   "id": "47a5a846",
   "metadata": {},
   "outputs": [
    {
     "name": "stdout",
     "output_type": "stream",
     "text": [
      "{'tabby': 1, 'loves': 2, 'dog': 3, 'cat': 4}\n"
     ]
    }
   ],
   "source": [
    "# The word_index contains the full list of words, basically a dictionary where the words are the keys and the \n",
    "# values being the token for the words.\n",
    "\n",
    "words_dictionary = tokenizer.word_index\n",
    "\n",
    "# Let's take a peep! Yo, we got it!!! ;)\n",
    "\n",
    "print(words_dictionary)"
   ]
  }
 ],
 "metadata": {
  "kernelspec": {
   "display_name": "Python 3 (ipykernel)",
   "language": "python",
   "name": "python3"
  },
  "language_info": {
   "codemirror_mode": {
    "name": "ipython",
    "version": 3
   },
   "file_extension": ".py",
   "mimetype": "text/x-python",
   "name": "python",
   "nbconvert_exporter": "python",
   "pygments_lexer": "ipython3",
   "version": "3.10.8"
  }
 },
 "nbformat": 4,
 "nbformat_minor": 5
}
