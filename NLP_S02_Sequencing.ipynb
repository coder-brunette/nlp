{
 "cells": [
  {
   "cell_type": "code",
   "execution_count": 1,
   "id": "efed7f7b",
   "metadata": {},
   "outputs": [],
   "source": [
    "# Sequencing"
   ]
  },
  {
   "cell_type": "code",
   "execution_count": 52,
   "id": "ef487e91",
   "metadata": {},
   "outputs": [],
   "source": [
    "### Using tensorflow library\n",
    "\n",
    "import tensorflow as tf\n",
    "from tensorflow import keras\n",
    "\n",
    "# Tokenizer APIs to be called from the tensorflow.keras as follows -\n",
    "\n",
    "from tensorflow.keras.preprocessing.text import Tokenizer\n",
    "from tensorflow.keras.preprocessing.sequence import pad_sequences"
   ]
  },
  {
   "cell_type": "code",
   "execution_count": 53,
   "id": "69d3557a",
   "metadata": {},
   "outputs": [],
   "source": [
    "# Taking few sentences and representing them as a list of strings.\n",
    "\n",
    "sentences = [\"Tabby loves dog\", \"Tabby loves cat\", \"My cat loves dog\", \"Do you think Tabby is amazing?\"]\n",
    "\n",
    "# Let's create an instance of the tokenizer object. The num_words argument is the maximum number of words to\n",
    "# keep, meaning most frequent 100 words in all our sentences.\n",
    "\n",
    "tokenizer = Tokenizer(num_words = 100, oov_token = \"<OOV>\")\n",
    "\n",
    "# The tokenizer goes through the all the texts and trains itself with the below line.\n",
    "\n",
    "tokenizer.fit_on_texts(sentences)"
   ]
  },
  {
   "cell_type": "code",
   "execution_count": 55,
   "id": "44beb54d",
   "metadata": {},
   "outputs": [
    {
     "name": "stdout",
     "output_type": "stream",
     "text": [
      "{'<OOV>': 1, 'tabby': 2, 'loves': 3, 'dog': 4, 'cat': 5, 'my': 6, 'do': 7, 'you': 8, 'think': 9, 'is': 10, 'amazing': 11}\n",
      "[[ 0  0  0  2  3  4]\n",
      " [ 0  0  0  2  3  5]\n",
      " [ 0  0  6  5  3  4]\n",
      " [ 7  8  9  2 10 11]]\n"
     ]
    }
   ],
   "source": [
    "# The word_index contains the full list of words, basically a dictionary where the words are the keys and the \n",
    "# values being the token for the words.\n",
    "\n",
    "words_dictionary = tokenizer.word_index\n",
    "print(words_dictionary)\n",
    "\n",
    "# Create sequences using texts_to_sequences().\n",
    "sequences = tokenizer.texts_to_sequences(sentences)\n",
    "\n",
    "# Passing the sequences to pad_sequences for padding all the sentences to the length of the longest sentence.\n",
    "padded_seq = pad_sequences(sequences)\n",
    "print(padded_seq)"
   ]
  },
  {
   "cell_type": "code",
   "execution_count": 56,
   "id": "3e03a981",
   "metadata": {},
   "outputs": [
    {
     "name": "stdout",
     "output_type": "stream",
     "text": [
      "[[6, 5, 1, 3, 8], [6, 4, 3, 6, 1]]\n"
     ]
    }
   ],
   "source": [
    "test_data = [\"My cat really loves you\", \"My dog loves my scrunchie\"]\n",
    "\n",
    "test_sequence = tokenizer.texts_to_sequences(test_data)\n",
    "print(test_sequence)"
   ]
  },
  {
   "cell_type": "code",
   "execution_count": null,
   "id": "a914bf9e",
   "metadata": {},
   "outputs": [],
   "source": []
  }
 ],
 "metadata": {
  "kernelspec": {
   "display_name": "Python 3 (ipykernel)",
   "language": "python",
   "name": "python3"
  },
  "language_info": {
   "codemirror_mode": {
    "name": "ipython",
    "version": 3
   },
   "file_extension": ".py",
   "mimetype": "text/x-python",
   "name": "python",
   "nbconvert_exporter": "python",
   "pygments_lexer": "ipython3",
   "version": "3.10.8"
  }
 },
 "nbformat": 4,
 "nbformat_minor": 5
}
