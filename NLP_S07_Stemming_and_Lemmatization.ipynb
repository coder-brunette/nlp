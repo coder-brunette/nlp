{
 "cells": [
  {
   "cell_type": "code",
   "execution_count": 1,
   "id": "e1daaa51",
   "metadata": {},
   "outputs": [],
   "source": [
    "################### Stemming and Lemmatization ###################"
   ]
  },
  {
   "cell_type": "code",
   "execution_count": 3,
   "id": "f889d507",
   "metadata": {},
   "outputs": [],
   "source": [
    "# Importing the libraries\n",
    "\n",
    "import nltk\n",
    "import spacy"
   ]
  },
  {
   "cell_type": "code",
   "execution_count": 4,
   "id": "303f2e47",
   "metadata": {},
   "outputs": [],
   "source": [
    "from nltk.stem import PorterStemmer\n",
    "\n",
    "stemmer = PorterStemmer()  # creating an object of PorterStemmer"
   ]
  },
  {
   "cell_type": "code",
   "execution_count": 9,
   "id": "a2d51c22",
   "metadata": {},
   "outputs": [
    {
     "name": "stdout",
     "output_type": "stream",
     "text": [
      "eating :  eat\n",
      "eats :  eat\n",
      "ate :  ate\n",
      "eat :  eat\n",
      "replaceable :  replac\n",
      "justice :  justic\n",
      "writing :  write\n",
      "mobility :  mobil\n"
     ]
    }
   ],
   "source": [
    "# Creating a list of words for stemming\n",
    "\n",
    "words = [\"eating\", \"eats\", \"ate\", \"eat\", \"replaceable\", \"justice\", \"writing\", \"mobility\"]\n",
    "\n",
    "for word in words:\n",
    "    print(word, \": \", stemmer.stem(word)) # printing the stem of all orignal words"
   ]
  },
  {
   "cell_type": "code",
   "execution_count": 8,
   "id": "2d71923f",
   "metadata": {},
   "outputs": [],
   "source": [
    "# We can see that for ate, justice and mobility it is unable to derive the base word. Since, it does not use\n",
    "# lexical resources to derive the root word rather the general rules."
   ]
  },
  {
   "cell_type": "code",
   "execution_count": 19,
   "id": "e4b907e6",
   "metadata": {},
   "outputs": [
    {
     "name": "stdout",
     "output_type": "stream",
     "text": [
      "eating :  eat\n",
      "eats :  eat\n",
      "ate :  eat\n",
      "eat :  eat\n",
      "replaceable :  replaceable\n",
      "justice :  justice\n",
      "writing :  write\n",
      "mobility :  mobility\n",
      "worst :  bad\n"
     ]
    }
   ],
   "source": [
    "# Now, we will experiment Lemmatization\n",
    "\n",
    "lemma = spacy.load(\"en_core_web_sm\") # loading \n",
    "\n",
    "word_doc = lemma(\"eating eats ate eat replaceable justice writing mobility worst\")\n",
    "\n",
    "for words in word_doc:\n",
    "    print(words, \": \", words.lemma_) # printing the stem of all orignal words"
   ]
  },
  {
   "cell_type": "code",
   "execution_count": 20,
   "id": "737d2719",
   "metadata": {},
   "outputs": [],
   "source": [
    "# We can see that for replaceable, justice and mobility it is unable to derive the base word. Since, the\n",
    "# mapping in the lexical resources for these words are same. But for worst it does give bad as a result.\n",
    "\n",
    "# The mappings can differ based on the rules in different models, we here loaded \"en_core_web_sm\" language\n",
    "# processing pipeline. You can load rests as well, there are plthora of differnt English and other language\n",
    "# models available\n",
    "\n",
    "# Make sure to run python -m spacy download en_core_web_sm before loading them.\n",
    "\n",
    "# Some of them are - \n",
    "\n",
    "# English Models:\n",
    "# en_core_web_sm: Small English model (vocabulary, syntax, entities), a good balance of size and performance.\n",
    "# en_core_web_md: Medium-sized English model, which includes word vectors (word embeddings) in addition to vocabulary, syntax, and entities.\n",
    "# en_core_web_lg: Large English model, which provides word vectors and is the most comprehensive English model in spaCy."
   ]
  },
  {
   "cell_type": "code",
   "execution_count": null,
   "id": "0fd85e00",
   "metadata": {},
   "outputs": [],
   "source": []
  }
 ],
 "metadata": {
  "kernelspec": {
   "display_name": "Python 3 (ipykernel)",
   "language": "python",
   "name": "python3"
  },
  "language_info": {
   "codemirror_mode": {
    "name": "ipython",
    "version": 3
   },
   "file_extension": ".py",
   "mimetype": "text/x-python",
   "name": "python",
   "nbconvert_exporter": "python",
   "pygments_lexer": "ipython3",
   "version": "3.10.8"
  }
 },
 "nbformat": 4,
 "nbformat_minor": 5
}
