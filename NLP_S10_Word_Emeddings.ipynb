{
  "cells": [
    {
      "cell_type": "code",
      "execution_count": null,
      "id": "7ea7bb62",
      "metadata": {
        "id": "7ea7bb62"
      },
      "outputs": [],
      "source": [
        "########################## Word Embeddings ##########################"
      ]
    },
    {
      "cell_type": "code",
      "execution_count": null,
      "id": "1b38bcc6",
      "metadata": {
        "id": "1b38bcc6"
      },
      "outputs": [],
      "source": [
        "# Importing required libraries\n",
        "\n",
        "import numpy as np\n",
        "from tensorflow.keras.preprocessing.text import one_hot\n",
        "from tensorflow.keras.preprocessing.sequence import pad_sequences\n",
        "from tensorflow.keras.models import Sequential\n",
        "from tensorflow.keras.layers import Dense\n",
        "from tensorflow.keras.layers import Flatten\n",
        "from tensorflow.keras.layers import Embedding"
      ]
    },
    {
      "cell_type": "code",
      "execution_count": null,
      "id": "e78a60b8",
      "metadata": {
        "id": "e78a60b8"
      },
      "outputs": [],
      "source": [
        "# The food review data\n",
        "\n",
        "reviews = ['nice food',\n",
        "        'amazing restaurant',\n",
        "        'too good',\n",
        "        'just loved it!',\n",
        "        'will go again',\n",
        "        'horrible food',\n",
        "        'never go there',\n",
        "        'poor service',\n",
        "        'poor quality',\n",
        "        'needs improvement'] # features\n",
        "\n",
        "\n",
        "sentiment = np.array([1,1,1,1,1,0,0,0,0,0]) # labels"
      ]
    },
    {
      "cell_type": "code",
      "execution_count": null,
      "id": "3b25a568",
      "metadata": {
        "colab": {
          "base_uri": "https://localhost:8080/"
        },
        "id": "3b25a568",
        "outputId": "d72b9989-b43c-4813-e6ef-c91bf4eea7f6"
      },
      "outputs": [
        {
          "output_type": "execute_result",
          "data": {
            "text/plain": [
              "[17, 9]"
            ]
          },
          "metadata": {},
          "execution_count": 6
        }
      ],
      "source": [
        "one_hot(\"nice food\",30) # takes the review and encodes all the words in it numerically to any number < 30"
      ]
    },
    {
      "cell_type": "code",
      "execution_count": null,
      "id": "237e8509",
      "metadata": {
        "colab": {
          "base_uri": "https://localhost:8080/"
        },
        "id": "237e8509",
        "outputId": "ef2437ac-e42f-4356-a37d-c4cc1b4a3315"
      },
      "outputs": [
        {
          "output_type": "stream",
          "name": "stdout",
          "text": [
            "[[17, 9], [4, 11], [18, 19], [25, 28, 10], [8, 28, 19], [26, 9], [7, 28, 16], [7, 11], [7, 5], [13, 15]]\n"
          ]
        }
      ],
      "source": [
        "vocab_size = 30\n",
        "encoded_reviews = [one_hot(r, vocab_size) for r in reviews] # encoded all the reviews\n",
        "print(encoded_reviews) # vectors for all the words in the reviews"
      ]
    },
    {
      "cell_type": "code",
      "execution_count": null,
      "id": "4a623a15",
      "metadata": {
        "colab": {
          "base_uri": "https://localhost:8080/"
        },
        "id": "4a623a15",
        "outputId": "e88bfbf9-c315-4e05-aa94-d3e2c0b3c9a4"
      },
      "outputs": [
        {
          "output_type": "stream",
          "name": "stdout",
          "text": [
            "[[17  9  0  0]\n",
            " [ 4 11  0  0]\n",
            " [18 19  0  0]\n",
            " [25 28 10  0]\n",
            " [ 8 28 19  0]\n",
            " [26  9  0  0]\n",
            " [ 7 28 16  0]\n",
            " [ 7 11  0  0]\n",
            " [ 7  5  0  0]\n",
            " [13 15  0  0]]\n"
          ]
        }
      ],
      "source": [
        "max_length = 4\n",
        "padded_revs = pad_sequences(encoded_reviews, maxlen=max_length, padding='post') # padding because sentences are of varying length based on the sentence\n",
        "# with the maximum length\n",
        "print(padded_revs)"
      ]
    },
    {
      "cell_type": "code",
      "execution_count": null,
      "id": "110a64c8",
      "metadata": {
        "id": "110a64c8"
      },
      "outputs": [],
      "source": [
        "embeded_vector_size = 5\n",
        "\n",
        "model = Sequential()\n",
        "model.add(Embedding(vocab_size, embeded_vector_size, input_length=max_length,name=\"embedding\")) # adding an embedding layer\n",
        "model.add(Flatten())\n",
        "model.add(Dense(1, activation='sigmoid'))"
      ]
    },
    {
      "cell_type": "code",
      "execution_count": null,
      "id": "c34444ee",
      "metadata": {
        "id": "c34444ee"
      },
      "outputs": [],
      "source": [
        "# Creating features and labels\n",
        "\n",
        "features = padded_revs\n",
        "labels = sentiment"
      ]
    },
    {
      "cell_type": "code",
      "source": [
        "# Compiling the model and using binary_crossentropy since output is either in 1 or 0\n",
        "\n",
        "model.compile(optimizer='adam', loss='binary_crossentropy', metrics=['accuracy'])\n",
        "print(model.summary())"
      ],
      "metadata": {
        "colab": {
          "base_uri": "https://localhost:8080/"
        },
        "id": "flbDSYk4P1aF",
        "outputId": "8846a466-1f48-42c6-88c8-0ee26368c47d"
      },
      "id": "flbDSYk4P1aF",
      "execution_count": null,
      "outputs": [
        {
          "output_type": "stream",
          "name": "stdout",
          "text": [
            "Model: \"sequential_1\"\n",
            "_________________________________________________________________\n",
            " Layer (type)                Output Shape              Param #   \n",
            "=================================================================\n",
            " embedding (Embedding)       (None, 4, 5)              150       \n",
            "                                                                 \n",
            " flatten_1 (Flatten)         (None, 20)                0         \n",
            "                                                                 \n",
            " dense_1 (Dense)             (None, 1)                 21        \n",
            "                                                                 \n",
            "=================================================================\n",
            "Total params: 171\n",
            "Trainable params: 171\n",
            "Non-trainable params: 0\n",
            "_________________________________________________________________\n",
            "None\n"
          ]
        }
      ]
    },
    {
      "cell_type": "code",
      "source": [
        "model.fit(features, labels, epochs=50, verbose=0)"
      ],
      "metadata": {
        "colab": {
          "base_uri": "https://localhost:8080/"
        },
        "id": "FwxiMZOxQCsv",
        "outputId": "698fb58e-594d-4d44-95cc-dfb1cd125b25"
      },
      "id": "FwxiMZOxQCsv",
      "execution_count": null,
      "outputs": [
        {
          "output_type": "execute_result",
          "data": {
            "text/plain": [
              "<keras.callbacks.History at 0x7e701a2f9150>"
            ]
          },
          "metadata": {},
          "execution_count": 17
        }
      ]
    },
    {
      "cell_type": "code",
      "source": [
        "# Evaluating the model\n",
        "loss, accuracy = model.evaluate(features, labels)\n",
        "accuracy"
      ],
      "metadata": {
        "colab": {
          "base_uri": "https://localhost:8080/"
        },
        "id": "ne7lSDf1QHSX",
        "outputId": "ab77f173-7646-4e4f-fc18-e910edd85b43"
      },
      "id": "ne7lSDf1QHSX",
      "execution_count": null,
      "outputs": [
        {
          "output_type": "stream",
          "name": "stdout",
          "text": [
            "1/1 [==============================] - 0s 108ms/step - loss: 0.6287 - accuracy: 1.0000\n"
          ]
        },
        {
          "output_type": "execute_result",
          "data": {
            "text/plain": [
              "1.0"
            ]
          },
          "metadata": {},
          "execution_count": 18
        }
      ]
    },
    {
      "cell_type": "code",
      "source": [
        "weights = model.get_layer('embedding').get_weights()[0] # embedded vectors\n",
        "len(weights)"
      ],
      "metadata": {
        "colab": {
          "base_uri": "https://localhost:8080/"
        },
        "id": "j8AuuIBaQPC_",
        "outputId": "78dabf84-aa14-4210-967a-d625a7b331c8"
      },
      "id": "j8AuuIBaQPC_",
      "execution_count": null,
      "outputs": [
        {
          "output_type": "execute_result",
          "data": {
            "text/plain": [
              "30"
            ]
          },
          "metadata": {},
          "execution_count": 21
        }
      ]
    },
    {
      "cell_type": "code",
      "source": [
        "weights[17] # embedding for the word 'nice' is 17"
      ],
      "metadata": {
        "colab": {
          "base_uri": "https://localhost:8080/"
        },
        "id": "5sFzZaAkQRxq",
        "outputId": "73501fc9-a4a7-4631-f576-0167b203c83c"
      },
      "id": "5sFzZaAkQRxq",
      "execution_count": null,
      "outputs": [
        {
          "output_type": "execute_result",
          "data": {
            "text/plain": [
              "array([-0.03723816, -0.04700213, -0.04930208, -0.0984641 , -0.08253745],\n",
              "      dtype=float32)"
            ]
          },
          "metadata": {},
          "execution_count": 23
        }
      ]
    },
    {
      "cell_type": "code",
      "source": [
        "weights[4] # embedding for the word 'amazing' is 4"
      ],
      "metadata": {
        "colab": {
          "base_uri": "https://localhost:8080/"
        },
        "id": "zCNfXtamQThh",
        "outputId": "cf93c643-069e-407d-bb31-e38d3e5b6639"
      },
      "id": "zCNfXtamQThh",
      "execution_count": null,
      "outputs": [
        {
          "output_type": "execute_result",
          "data": {
            "text/plain": [
              "array([-0.09370555, -0.05406364, -0.02081859, -0.04902738, -0.09160612],\n",
              "      dtype=float32)"
            ]
          },
          "metadata": {},
          "execution_count": 25
        }
      ]
    },
    {
      "cell_type": "code",
      "source": [
        "# We can see the vectors are different for nice and amazing although these words are kind of similar because dataset is small."
      ],
      "metadata": {
        "id": "88ce9F0rQsJ0"
      },
      "id": "88ce9F0rQsJ0",
      "execution_count": null,
      "outputs": []
    },
    {
      "cell_type": "code",
      "source": [],
      "metadata": {
        "id": "lnmIvIOGQ9lp"
      },
      "id": "lnmIvIOGQ9lp",
      "execution_count": null,
      "outputs": []
    }
  ],
  "metadata": {
    "kernelspec": {
      "display_name": "Python 3 (ipykernel)",
      "language": "python",
      "name": "python3"
    },
    "language_info": {
      "codemirror_mode": {
        "name": "ipython",
        "version": 3
      },
      "file_extension": ".py",
      "mimetype": "text/x-python",
      "name": "python",
      "nbconvert_exporter": "python",
      "pygments_lexer": "ipython3",
      "version": "3.10.8"
    },
    "colab": {
      "provenance": []
    }
  },
  "nbformat": 4,
  "nbformat_minor": 5
}