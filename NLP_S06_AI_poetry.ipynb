{
  "nbformat": 4,
  "nbformat_minor": 0,
  "metadata": {
    "colab": {
      "provenance": []
    },
    "kernelspec": {
      "name": "python3",
      "display_name": "Python 3"
    },
    "language_info": {
      "name": "python"
    }
  },
  "cells": [
    {
      "cell_type": "code",
      "execution_count": 1,
      "metadata": {
        "id": "0wTerLILjKqF"
      },
      "outputs": [],
      "source": [
        "############### Generating AI poetry ###############"
      ]
    },
    {
      "cell_type": "code",
      "source": [
        "import tensorflow as tf\n",
        "from tensorflow import keras\n",
        "from tensorflow.keras.preprocessing.sequence import pad_sequences\n",
        "from tensorflow.keras.layers import Embedding, LSTM, Dense, Bidirectional\n",
        "from tensorflow.keras.preprocessing.text import Tokenizer\n",
        "from tensorflow.keras.models import Sequential\n",
        "from tensorflow.keras.optimizers import Adam\n",
        "import numpy as np"
      ],
      "metadata": {
        "id": "A_Byx95JqGwH"
      },
      "execution_count": 13,
      "outputs": []
    },
    {
      "cell_type": "code",
      "source": [
        "# Step 1: Pick the lyrics you like\n",
        "\n",
        "# I will go ahead with \"Perfect\" by Ed Sheeran\n",
        "\n",
        "\"\"\"\n",
        "I found a love, for me\n",
        "Darling, just dive right in and follow my lead\n",
        "Well, I found a girl, beautiful and sweet\n",
        "Oh, I never knew you were the someone waiting for me\n",
        "'Cause we were just kids when we fell in love\n",
        "Not knowing what it was\n",
        "I will not give you up this time\n",
        "But darling, just kiss me slow\n",
        "Your heart is all I own\n",
        "And in your eyes, you're holding mine\n",
        "Baby, I'm dancing in the dark\n",
        "With you between my arms\n",
        "Barefoot on the grass\n",
        "Listening to our favourite song\n",
        "When you said you looked a mess\n",
        "I whispered underneath my breath\n",
        "But you heard it\n",
        "Darling, you look perfect tonight\n",
        "Well, I found a woman, stronger than anyone I know\n",
        "She shares my dreams, I hope that someday I'll share her home\n",
        "I found a lover, to carry more than just my secrets\n",
        "To carry love, to carry children of our own\n",
        "We are still kids, but we're so in love\n",
        "Fighting against all odds\n",
        "I know we'll be alright this time\n",
        "Darling, just hold my hand\n",
        "Be my girl, I'll be your man\n",
        "I see my future in your eyes\n",
        "Baby, I'm dancing in the dark\n",
        "With you between my arms\n",
        "Barefoot on the grass\n",
        "Listening to our favorite song\n",
        "When I saw you in that dress, looking so beautiful\n",
        "I don't deserve this\n",
        "Darling, you look perfect tonight\n",
        "Baby, I'm dancing in the dark\n",
        "With you between my arms\n",
        "Barefoot on the grass\n",
        "Listening to our favorite song\n",
        "I have faith in what I see\n",
        "Now I know I have met an angel in person\n",
        "And she looks perfect\n",
        "I don't deserve this\n",
        "You look perfect tonight\n",
        "\"\"\""
      ],
      "metadata": {
        "colab": {
          "base_uri": "https://localhost:8080/",
          "height": 140
        },
        "id": "idiaLs8pjRqR",
        "outputId": "c3383306-694d-4b28-ec4b-df08ffda4922"
      },
      "execution_count": 2,
      "outputs": [
        {
          "output_type": "execute_result",
          "data": {
            "text/plain": [
              "\" \\nI found a love, for me\\nDarling, just dive right in and follow my lead\\nWell, I found a girl, beautiful and sweet\\nOh, I never knew you were the someone waiting for me\\n'Cause we were just kids when we fell in love\\nNot knowing what it was\\nI will not give you up this time\\nBut darling, just kiss me slow\\nYour heart is all I own\\nAnd in your eyes, you're holding mine\\nBaby, I'm dancing in the dark\\nWith you between my arms\\nBarefoot on the grass\\nListening to our favourite song\\nWhen you said you looked a mess\\nI whispered underneath my breath\\nBut you heard it\\nDarling, you look perfect tonight\\nWell, I found a woman, stronger than anyone I know\\nShe shares my dreams, I hope that someday I'll share her home\\nI found a lover, to carry more than just my secrets\\nTo carry love, to carry children of our own\\nWe are still kids, but we're so in love\\nFighting against all odds\\nI know we'll be alright this time\\nDarling, just hold my hand\\nBe my girl, I'll be your man\\nI see my future in your eyes\\nBaby, I'm dancing in the dark\\nWith you between my arms\\nBarefoot on the grass\\nListening to our favorite song\\nWhen I saw you in that dress, looking so beautiful\\nI don't deserve this\\nDarling, you look perfect tonight\\nBaby, I'm dancing in the dark\\nWith you between my arms\\nBarefoot on the grass\\nListening to our favorite song\\nI have faith in what I see\\nNow I know I have met an angel in person\\nAnd she looks perfect\\nI don't deserve this\\nYou look perfect tonight \\n\""
            ],
            "application/vnd.google.colaboratory.intrinsic+json": {
              "type": "string"
            }
          },
          "metadata": {},
          "execution_count": 2
        }
      ]
    },
    {
      "cell_type": "code",
      "source": [
        "# Step 2: Read the data in the code\n",
        "\n",
        "# creating tokenizer object\n",
        "tokenizer = Tokenizer()\n",
        "\n",
        "data = \"I found a love, for me\\nDarling, just dive right in and follow my lead\\nWell, I found a girl, beautiful and sweet\\nOh, I never knew you were the someone waiting for me\\n'Cause we were just kids when we fell in love\\nNot knowing what it was\\nI will not give you up this time\\nBut darling, just kiss me slow\\nYour heart is all I own\\nAnd in your eyes, you're holding mine\\nBaby, I'm dancing in the dark\\nWith you between my arms\\nBarefoot on the grass\\nListening to our favourite song\\nWhen you said you looked a mess\\nI whispered underneath my breath\\nBut you heard it\\nDarling, you look perfect tonight\\nWell, I found a woman, stronger than anyone I know\\nShe shares my dreams, I hope that someday I'll share her home\\nI found a lover, to carry more than just my secrets\\nTo carry love, to carry children of our own\\nWe are still kids, but we're so in love\\nFighting against all odds\\nI know we'll be alright this time\\nDarling, just hold my hand\\nBe my girl, I'll be your man\\nI see my future in your eyes\\nBaby, I'm dancing in the dark\\nWith you between my arms\\nBarefoot on the grass\\nListening to our favorite song\\nWhen I saw you in that dress, looking so beautiful\\nI don't deserve this\\nDarling, you look perfect tonight\\nBaby, I'm dancing in the dark\\nWith you between my arms\\nBarefoot on the grass\\nListening to our favorite song\\nI have faith in what I see\\nNow I know I have met an angel in person\\nAnd she looks perfect\\nI don't deserve this\\nYou look perfect tonight\"\n"
      ],
      "metadata": {
        "id": "1klvndb5jtDm"
      },
      "execution_count": 14,
      "outputs": []
    },
    {
      "cell_type": "code",
      "source": [
        "# Step 3: Creating word index\n",
        "\n",
        "# converting every letter to lower case and breaking in new lines on '\\n'\n",
        "text = data.lower().split('\\n')\n",
        "\n",
        "# obtaining a word_index\n",
        "tokenizer.fit_on_texts(text)\n",
        "\n",
        "# counting the total words in corpus and adding 1 for OOV token\n",
        "total_words = len(tokenizer.word_index) + 1\n",
        "\n",
        "print(total_words)\n"
      ],
      "metadata": {
        "colab": {
          "base_uri": "https://localhost:8080/"
        },
        "id": "JytRv4uFkJsV",
        "outputId": "3f79e66b-14b0-4302-a47b-41b0159b0580"
      },
      "execution_count": 15,
      "outputs": [
        {
          "output_type": "stream",
          "name": "stdout",
          "text": [
            "130\n"
          ]
        }
      ]
    },
    {
      "cell_type": "code",
      "source": [
        "# Step 4: Sequencing line by line\n",
        "\n",
        "# creating sequence empty list\n",
        "inp_sequences = []\n",
        "\n",
        "for line in text:\n",
        "  token_lst = tokenizer.texts_to_sequences([line])[0] # tokenizing each line as it iterates\n",
        "  for i in range(1, len(token_lst)):\n",
        "    n_gram_seq = token_lst[:i+1]\n",
        "    inp_sequences.append(n_gram_seq)"
      ],
      "metadata": {
        "id": "fq9IZphQntWE"
      },
      "execution_count": 17,
      "outputs": []
    },
    {
      "cell_type": "code",
      "source": [
        "# Step 4: Padding the sequences\n",
        "\n",
        "# pad sequences\n",
        "max_seq_len = max([len(x) for x in inp_sequences])\n",
        "inp_sequences = np.array(pad_sequences(inp_sequences, maxlen=max_seq_len, padding='pre'))"
      ],
      "metadata": {
        "id": "qUN0NR1vpodA"
      },
      "execution_count": 18,
      "outputs": []
    },
    {
      "cell_type": "code",
      "source": [
        "# Step 5: Create features and labels\n",
        "\n",
        "x, labels = inp_sequences[:,:-1],inp_sequences[:,-1] #slicing the list to generate separate x and y\n",
        "\n",
        "y = tf.keras.utils.to_categorical(labels, num_classes=total_words) # make y as categorical and one-hot encoded"
      ],
      "metadata": {
        "id": "UwIiSZFRp6b_"
      },
      "execution_count": 22,
      "outputs": []
    },
    {
      "cell_type": "code",
      "source": [
        "# Step 6: Create a model\n",
        "\n",
        "model = Sequential()\n",
        "model.add(Embedding(total_words, 100, input_length=max_seq_len-1))\n",
        "model.add(Bidirectional(LSTM(150)))\n",
        "model.add(Dense(total_words, activation='softmax'))\n",
        "\n",
        "adam = Adam(lr=0.01)\n",
        "model.compile(loss='categorical_crossentropy', optimizer=adam, metrics=['accuracy'])\n",
        "\n",
        "model_fit = model.fit(x, y, epochs=100, verbose=1)\n",
        "#print model.summary()\n",
        "print(model)"
      ],
      "metadata": {
        "colab": {
          "base_uri": "https://localhost:8080/"
        },
        "id": "EjlTBAMHqqPP",
        "outputId": "5350238e-2d8a-401e-c573-5ad769c38ef2"
      },
      "execution_count": 23,
      "outputs": [
        {
          "output_type": "stream",
          "name": "stderr",
          "text": [
            "WARNING:absl:`lr` is deprecated in Keras optimizer, please use `learning_rate` or use the legacy optimizer, e.g.,tf.keras.optimizers.legacy.Adam.\n"
          ]
        },
        {
          "output_type": "stream",
          "name": "stdout",
          "text": [
            "Epoch 1/100\n",
            "8/8 [==============================] - 6s 40ms/step - loss: 4.8584 - accuracy: 0.0248\n",
            "Epoch 2/100\n",
            "8/8 [==============================] - 0s 41ms/step - loss: 4.7713 - accuracy: 0.0455\n",
            "Epoch 3/100\n",
            "8/8 [==============================] - 0s 41ms/step - loss: 4.5738 - accuracy: 0.0455\n",
            "Epoch 4/100\n",
            "8/8 [==============================] - 0s 40ms/step - loss: 4.4723 - accuracy: 0.0455\n",
            "Epoch 5/100\n",
            "8/8 [==============================] - 0s 40ms/step - loss: 4.4335 - accuracy: 0.0579\n",
            "Epoch 6/100\n",
            "8/8 [==============================] - 0s 40ms/step - loss: 4.3853 - accuracy: 0.0661\n",
            "Epoch 7/100\n",
            "8/8 [==============================] - 0s 42ms/step - loss: 4.3021 - accuracy: 0.0661\n",
            "Epoch 8/100\n",
            "8/8 [==============================] - 0s 40ms/step - loss: 4.2255 - accuracy: 0.0537\n",
            "Epoch 9/100\n",
            "8/8 [==============================] - 0s 40ms/step - loss: 4.1203 - accuracy: 0.0826\n",
            "Epoch 10/100\n",
            "8/8 [==============================] - 0s 41ms/step - loss: 4.0273 - accuracy: 0.0785\n",
            "Epoch 11/100\n",
            "8/8 [==============================] - 0s 39ms/step - loss: 3.9082 - accuracy: 0.0744\n",
            "Epoch 12/100\n",
            "8/8 [==============================] - 0s 40ms/step - loss: 3.8025 - accuracy: 0.0868\n",
            "Epoch 13/100\n",
            "8/8 [==============================] - 0s 42ms/step - loss: 3.6760 - accuracy: 0.1157\n",
            "Epoch 14/100\n",
            "8/8 [==============================] - 0s 40ms/step - loss: 3.5097 - accuracy: 0.1612\n",
            "Epoch 15/100\n",
            "8/8 [==============================] - 0s 40ms/step - loss: 3.3756 - accuracy: 0.1901\n",
            "Epoch 16/100\n",
            "8/8 [==============================] - 0s 42ms/step - loss: 3.2192 - accuracy: 0.2066\n",
            "Epoch 17/100\n",
            "8/8 [==============================] - 0s 40ms/step - loss: 3.0435 - accuracy: 0.2603\n",
            "Epoch 18/100\n",
            "8/8 [==============================] - 0s 40ms/step - loss: 2.9048 - accuracy: 0.2727\n",
            "Epoch 19/100\n",
            "8/8 [==============================] - 0s 42ms/step - loss: 2.8012 - accuracy: 0.2934\n",
            "Epoch 20/100\n",
            "8/8 [==============================] - 0s 39ms/step - loss: 2.6605 - accuracy: 0.3388\n",
            "Epoch 21/100\n",
            "8/8 [==============================] - 0s 40ms/step - loss: 2.4893 - accuracy: 0.3430\n",
            "Epoch 22/100\n",
            "8/8 [==============================] - 0s 43ms/step - loss: 2.3433 - accuracy: 0.3884\n",
            "Epoch 23/100\n",
            "8/8 [==============================] - 0s 40ms/step - loss: 2.1861 - accuracy: 0.4256\n",
            "Epoch 24/100\n",
            "8/8 [==============================] - 0s 41ms/step - loss: 2.1003 - accuracy: 0.4793\n",
            "Epoch 25/100\n",
            "8/8 [==============================] - 0s 43ms/step - loss: 1.9327 - accuracy: 0.5289\n",
            "Epoch 26/100\n",
            "8/8 [==============================] - 0s 41ms/step - loss: 1.7833 - accuracy: 0.5702\n",
            "Epoch 27/100\n",
            "8/8 [==============================] - 0s 41ms/step - loss: 1.6666 - accuracy: 0.5661\n",
            "Epoch 28/100\n",
            "8/8 [==============================] - 0s 42ms/step - loss: 1.6046 - accuracy: 0.6364\n",
            "Epoch 29/100\n",
            "8/8 [==============================] - 0s 40ms/step - loss: 1.5051 - accuracy: 0.6364\n",
            "Epoch 30/100\n",
            "8/8 [==============================] - 0s 48ms/step - loss: 1.4101 - accuracy: 0.6653\n",
            "Epoch 31/100\n",
            "8/8 [==============================] - 1s 78ms/step - loss: 1.3499 - accuracy: 0.7107\n",
            "Epoch 32/100\n",
            "8/8 [==============================] - 1s 81ms/step - loss: 1.2941 - accuracy: 0.7107\n",
            "Epoch 33/100\n",
            "8/8 [==============================] - 1s 78ms/step - loss: 1.2206 - accuracy: 0.7190\n",
            "Epoch 34/100\n",
            "8/8 [==============================] - 1s 80ms/step - loss: 1.1659 - accuracy: 0.7438\n",
            "Epoch 35/100\n",
            "8/8 [==============================] - 0s 58ms/step - loss: 1.0984 - accuracy: 0.7727\n",
            "Epoch 36/100\n",
            "8/8 [==============================] - 0s 45ms/step - loss: 1.0462 - accuracy: 0.7727\n",
            "Epoch 37/100\n",
            "8/8 [==============================] - 0s 40ms/step - loss: 0.9624 - accuracy: 0.8223\n",
            "Epoch 38/100\n",
            "8/8 [==============================] - 0s 40ms/step - loss: 0.9206 - accuracy: 0.8430\n",
            "Epoch 39/100\n",
            "8/8 [==============================] - 0s 43ms/step - loss: 0.8844 - accuracy: 0.8306\n",
            "Epoch 40/100\n",
            "8/8 [==============================] - 0s 42ms/step - loss: 0.8475 - accuracy: 0.8471\n",
            "Epoch 41/100\n",
            "8/8 [==============================] - 0s 40ms/step - loss: 0.8393 - accuracy: 0.8430\n",
            "Epoch 42/100\n",
            "8/8 [==============================] - 0s 42ms/step - loss: 0.8609 - accuracy: 0.8182\n",
            "Epoch 43/100\n",
            "8/8 [==============================] - 0s 40ms/step - loss: 0.8055 - accuracy: 0.8430\n",
            "Epoch 44/100\n",
            "8/8 [==============================] - 0s 40ms/step - loss: 0.7513 - accuracy: 0.8636\n",
            "Epoch 45/100\n",
            "8/8 [==============================] - 0s 42ms/step - loss: 0.7155 - accuracy: 0.8306\n",
            "Epoch 46/100\n",
            "8/8 [==============================] - 0s 39ms/step - loss: 0.7054 - accuracy: 0.8554\n",
            "Epoch 47/100\n",
            "8/8 [==============================] - 0s 40ms/step - loss: 0.6519 - accuracy: 0.8678\n",
            "Epoch 48/100\n",
            "8/8 [==============================] - 0s 42ms/step - loss: 0.6145 - accuracy: 0.8884\n",
            "Epoch 49/100\n",
            "8/8 [==============================] - 0s 41ms/step - loss: 0.6172 - accuracy: 0.8884\n",
            "Epoch 50/100\n",
            "8/8 [==============================] - 0s 41ms/step - loss: 0.5679 - accuracy: 0.8926\n",
            "Epoch 51/100\n",
            "8/8 [==============================] - 0s 43ms/step - loss: 0.5366 - accuracy: 0.8884\n",
            "Epoch 52/100\n",
            "8/8 [==============================] - 0s 41ms/step - loss: 0.5027 - accuracy: 0.9091\n",
            "Epoch 53/100\n",
            "8/8 [==============================] - 0s 41ms/step - loss: 0.4727 - accuracy: 0.9174\n",
            "Epoch 54/100\n",
            "8/8 [==============================] - 0s 44ms/step - loss: 0.4612 - accuracy: 0.9256\n",
            "Epoch 55/100\n",
            "8/8 [==============================] - 0s 42ms/step - loss: 0.4474 - accuracy: 0.9174\n",
            "Epoch 56/100\n",
            "8/8 [==============================] - 0s 39ms/step - loss: 0.4400 - accuracy: 0.9050\n",
            "Epoch 57/100\n",
            "8/8 [==============================] - 0s 41ms/step - loss: 0.4206 - accuracy: 0.9174\n",
            "Epoch 58/100\n",
            "8/8 [==============================] - 0s 40ms/step - loss: 0.3969 - accuracy: 0.9339\n",
            "Epoch 59/100\n",
            "8/8 [==============================] - 0s 41ms/step - loss: 0.3988 - accuracy: 0.9174\n",
            "Epoch 60/100\n",
            "8/8 [==============================] - 0s 40ms/step - loss: 0.3939 - accuracy: 0.9174\n",
            "Epoch 61/100\n",
            "8/8 [==============================] - 0s 40ms/step - loss: 0.4119 - accuracy: 0.9050\n",
            "Epoch 62/100\n",
            "8/8 [==============================] - 0s 41ms/step - loss: 0.4005 - accuracy: 0.9008\n",
            "Epoch 63/100\n",
            "8/8 [==============================] - 0s 41ms/step - loss: 0.3846 - accuracy: 0.9091\n",
            "Epoch 64/100\n",
            "8/8 [==============================] - 0s 40ms/step - loss: 0.3520 - accuracy: 0.9174\n",
            "Epoch 65/100\n",
            "8/8 [==============================] - 0s 65ms/step - loss: 0.3439 - accuracy: 0.9215\n",
            "Epoch 66/100\n",
            "8/8 [==============================] - 1s 80ms/step - loss: 0.3372 - accuracy: 0.9132\n",
            "Epoch 67/100\n",
            "8/8 [==============================] - 1s 81ms/step - loss: 0.3229 - accuracy: 0.9132\n",
            "Epoch 68/100\n",
            "8/8 [==============================] - 1s 78ms/step - loss: 0.3150 - accuracy: 0.9215\n",
            "Epoch 69/100\n",
            "8/8 [==============================] - 1s 80ms/step - loss: 0.3037 - accuracy: 0.9380\n",
            "Epoch 70/100\n",
            "8/8 [==============================] - 0s 41ms/step - loss: 0.2884 - accuracy: 0.9380\n",
            "Epoch 71/100\n",
            "8/8 [==============================] - 0s 40ms/step - loss: 0.2991 - accuracy: 0.9298\n",
            "Epoch 72/100\n",
            "8/8 [==============================] - 0s 41ms/step - loss: 0.2818 - accuracy: 0.9256\n",
            "Epoch 73/100\n",
            "8/8 [==============================] - 0s 41ms/step - loss: 0.2801 - accuracy: 0.9174\n",
            "Epoch 74/100\n",
            "8/8 [==============================] - 0s 40ms/step - loss: 0.2714 - accuracy: 0.9256\n",
            "Epoch 75/100\n",
            "8/8 [==============================] - 0s 40ms/step - loss: 0.2614 - accuracy: 0.9256\n",
            "Epoch 76/100\n",
            "8/8 [==============================] - 0s 39ms/step - loss: 0.2582 - accuracy: 0.9215\n",
            "Epoch 77/100\n",
            "8/8 [==============================] - 0s 41ms/step - loss: 0.2475 - accuracy: 0.9215\n",
            "Epoch 78/100\n",
            "8/8 [==============================] - 0s 44ms/step - loss: 0.2392 - accuracy: 0.9256\n",
            "Epoch 79/100\n",
            "8/8 [==============================] - 0s 41ms/step - loss: 0.2361 - accuracy: 0.9215\n",
            "Epoch 80/100\n",
            "8/8 [==============================] - 0s 40ms/step - loss: 0.2320 - accuracy: 0.9256\n",
            "Epoch 81/100\n",
            "8/8 [==============================] - 0s 41ms/step - loss: 0.2286 - accuracy: 0.9298\n",
            "Epoch 82/100\n",
            "8/8 [==============================] - 0s 40ms/step - loss: 0.2345 - accuracy: 0.9215\n",
            "Epoch 83/100\n",
            "8/8 [==============================] - 0s 41ms/step - loss: 0.2375 - accuracy: 0.9132\n",
            "Epoch 84/100\n",
            "8/8 [==============================] - 0s 42ms/step - loss: 0.2233 - accuracy: 0.9256\n",
            "Epoch 85/100\n",
            "8/8 [==============================] - 0s 42ms/step - loss: 0.2234 - accuracy: 0.9132\n",
            "Epoch 86/100\n",
            "8/8 [==============================] - 0s 40ms/step - loss: 0.2163 - accuracy: 0.9256\n",
            "Epoch 87/100\n",
            "8/8 [==============================] - 0s 42ms/step - loss: 0.2156 - accuracy: 0.9256\n",
            "Epoch 88/100\n",
            "8/8 [==============================] - 0s 41ms/step - loss: 0.2086 - accuracy: 0.9298\n",
            "Epoch 89/100\n",
            "8/8 [==============================] - 0s 42ms/step - loss: 0.2075 - accuracy: 0.9256\n",
            "Epoch 90/100\n",
            "8/8 [==============================] - 0s 44ms/step - loss: 0.2087 - accuracy: 0.9174\n",
            "Epoch 91/100\n",
            "8/8 [==============================] - 0s 41ms/step - loss: 0.2027 - accuracy: 0.9256\n",
            "Epoch 92/100\n",
            "8/8 [==============================] - 0s 40ms/step - loss: 0.1996 - accuracy: 0.9298\n",
            "Epoch 93/100\n",
            "8/8 [==============================] - 0s 40ms/step - loss: 0.1971 - accuracy: 0.9256\n",
            "Epoch 94/100\n",
            "8/8 [==============================] - 0s 40ms/step - loss: 0.1981 - accuracy: 0.9339\n",
            "Epoch 95/100\n",
            "8/8 [==============================] - 0s 40ms/step - loss: 0.1980 - accuracy: 0.9174\n",
            "Epoch 96/100\n",
            "8/8 [==============================] - 0s 41ms/step - loss: 0.1896 - accuracy: 0.9298\n",
            "Epoch 97/100\n",
            "8/8 [==============================] - 0s 40ms/step - loss: 0.1939 - accuracy: 0.9256\n",
            "Epoch 98/100\n",
            "8/8 [==============================] - 0s 41ms/step - loss: 0.1892 - accuracy: 0.9380\n",
            "Epoch 99/100\n",
            "8/8 [==============================] - 1s 72ms/step - loss: 0.1900 - accuracy: 0.9256\n",
            "Epoch 100/100\n",
            "8/8 [==============================] - 1s 81ms/step - loss: 0.1958 - accuracy: 0.8967\n",
            "<keras.engine.sequential.Sequential object at 0x7aa93eeb46d0>\n"
          ]
        }
      ]
    },
    {
      "cell_type": "code",
      "source": [
        "# Step 7: Create epoch vs accuracy graph\n",
        "\n",
        "import matplotlib.pyplot as plt\n",
        "\n",
        "def plot_graphs(history, string):\n",
        "  plt.plot(history.history[string])\n",
        "  plt.xlabel(\"Epochs\")\n",
        "  plt.ylabel(string)\n",
        "  plt.show()\n",
        "\n",
        "plot_graphs(model_fit, 'accuracy') # the accuracy is about 90%"
      ],
      "metadata": {
        "colab": {
          "base_uri": "https://localhost:8080/",
          "height": 449
        },
        "id": "L0CORPnKrWaI",
        "outputId": "0a4ed244-12e7-46ac-84a1-f01f177333bf"
      },
      "execution_count": 26,
      "outputs": [
        {
          "output_type": "display_data",
          "data": {
            "text/plain": [
              "<Figure size 640x480 with 1 Axes>"
            ],
            "image/png": "[encoded data removed]"
          },
          "metadata": {}
        }
      ]
    },
    {
      "cell_type": "code",
      "source": [
        "# Step 8: Validation - We provide an initial text for it to generate some lines for us\n",
        "\n",
        "initial_text = \"I see in your eyes\"\n",
        "next_words = 20\n",
        "\n",
        "for _ in range(next_words):\n",
        "\ttoken_list = tokenizer.texts_to_sequences([initial_text])[0]\n",
        "\ttoken_list = pad_sequences([token_list], maxlen=max_seq_len-1, padding='pre')\n",
        "\tpredicted = np.argmax(model.predict(token_list), axis=-1)\n",
        "\toutput_word = \"\"\n",
        "\tfor word, index in tokenizer.word_index.items():\n",
        "\t\tif index == predicted:\n",
        "\t\t\toutput_word = word\n",
        "\t\t\tbreak\n",
        "\tinitial_text += \" \" + output_word\n",
        "print(initial_text)"
      ],
      "metadata": {
        "colab": {
          "base_uri": "https://localhost:8080/"
        },
        "id": "h4xXcI03r7rc",
        "outputId": "a71f4806-bbf7-411f-f194-5d7fe241d75f"
      },
      "execution_count": 30,
      "outputs": [
        {
          "output_type": "stream",
          "name": "stdout",
          "text": [
            "1/1 [==============================] - 0s 47ms/step\n",
            "1/1 [==============================] - 0s 49ms/step\n",
            "1/1 [==============================] - 0s 53ms/step\n",
            "1/1 [==============================] - 0s 69ms/step\n",
            "1/1 [==============================] - 0s 90ms/step\n",
            "1/1 [==============================] - 0s 107ms/step\n",
            "1/1 [==============================] - 0s 120ms/step\n",
            "1/1 [==============================] - 0s 106ms/step\n",
            "1/1 [==============================] - 0s 45ms/step\n",
            "1/1 [==============================] - 0s 86ms/step\n",
            "1/1 [==============================] - 0s 62ms/step\n",
            "1/1 [==============================] - 0s 41ms/step\n",
            "1/1 [==============================] - 0s 100ms/step\n",
            "1/1 [==============================] - 0s 41ms/step\n",
            "1/1 [==============================] - 0s 39ms/step\n",
            "1/1 [==============================] - 0s 55ms/step\n",
            "1/1 [==============================] - 0s 33ms/step\n",
            "1/1 [==============================] - 0s 37ms/step\n",
            "1/1 [==============================] - 0s 47ms/step\n",
            "1/1 [==============================] - 0s 81ms/step\n",
            "I see in your eyes eyes holding mine mine her knowing home home home person person person person person person person person person person person\n"
          ]
        }
      ]
    },
    {
      "cell_type": "code",
      "source": [],
      "metadata": {
        "id": "XwX88NwVyKvp"
      },
      "execution_count": null,
      "outputs": []
    }
  ]
}